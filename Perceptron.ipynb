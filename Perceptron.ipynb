{
 "cells": [
  {
   "cell_type": "markdown",
   "metadata": {},
   "source": [
    "# 感知器（Perceptron）\n",
    "\n",
    "## Definition\n",
    "\n",
    "$$y = f(x) = sign(\\omega \\cdot x + b), $$\n",
    "\n",
    "$$sign(x) = \\left\\{ \\begin{array}{rcl} +1,& x\\geq0 \\\\ -1, & x<0 \\end{array} \\right.$$\n",
    "\n",
    "where $ \\omega \\in \\mathcal{R^n}, \\ b \\in \\mathcal{R}, x \\in \\mathcal{X}, y \\in \\mathcal{Y} $\n",
    "\n",
    "$ \\mathcal{X} \\subseteq \\mathcal{R^n} $ is the input space \n",
    "\n",
    "$ \\mathcal{Y} = \\{+1, -1\\} $ is the output space\n",
    "\n",
    "### Train Set\n",
    "$$T = \\{ (\\textbf{x}_1, \\textbf{y}_1), (\\textbf{x}_2, \\textbf{y}_2), \\cdots, (\\textbf{x}_n, \\textbf{y}_n) \\},$$ \n",
    "\n",
    "where $ \\textbf x_i \\in \\mathcal{X}, \\ y_i \\in \\mathcal{Y}, \\ i = 1, 2, \\cdots, N $\n",
    "\n",
    "### Form\n",
    "\n",
    "$$y = f(x) = sign(\\omega \\cdot x + b) = sign(\\omega^T \\textbf{x}), $$\n",
    "\n",
    "where $ \\omega = [b, \\omega_1, \\omega_2, \\cdots, \\omega_n]^T, \\textbf{x}_i = [+1, x_{i1}, x_{i2}, \\cdots, x_{in}]^T $\n",
    "\n",
    "\n",
    "## Learning Algorithm\n",
    "\n",
    "$$\\omega(n+1) = \\left\\{ \\begin{array}{rcl} \\omega(n), & \\hat{y}(n) = y(n) \\\\ \\omega(n) + \\eta(n)\\textbf{x}(n), & \\hat{y}(n) \\neq y(n) & y(n)=1 \\\\ \\omega(n) - \\eta(n)\\textbf{x}(n), & \\hat{y}(n) \\neq y(n) & y(n) =-1\\end{array}\\right.,$$\n",
    "\n",
    "obtain:\n",
    "\n",
    "$$\\omega(n+1) = \\omega(n) + \\eta y(n)\\textbf{x}(n)$$\n",
    "\n",
    "where\n",
    "\n",
    " $\\eta(n)$ is the learning rate parameter\n",
    "\n",
    " $\\hat{y}(n) = f(\\textbf{x}(n)) = sign(\\omega \\cdot \\textbf{x}(n) + b)$ is the output of the $n$ th member of the training set\n",
    "\n",
    " $y(n)$ is the label of the $n$ th member of the training set\n",
    "\n",
    " $\\textbf{x}(n)$ is the $n$ th member of the training set\n",
    "\n",
    " ## Convergence\n",
    "\n",
    " ### Novikoff"
   ]
  },
  {
   "cell_type": "code",
   "execution_count": null,
   "metadata": {},
   "outputs": [],
   "source": []
  }
 ],
 "metadata": {
  "interpreter": {
   "hash": "a2ae398f54937c2e9a792e0245dde3e7f00c22003a4409849c6155f07537f255"
  },
  "kernelspec": {
   "display_name": "Python 3.8.0 64-bit ('DIP': conda)",
   "language": "python",
   "name": "python3"
  },
  "language_info": {
   "name": "python",
   "version": "3.8.0"
  },
  "orig_nbformat": 4
 },
 "nbformat": 4,
 "nbformat_minor": 2
}
