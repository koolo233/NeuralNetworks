{
 "cells": [
  {
   "cell_type": "markdown",
   "metadata": {},
   "source": [
    "# 感知机(Perceptron)\n",
    "\n",
    "## 定义\n",
    "\n",
    "$$y = f(x) = sign(\\omega \\cdot x + b), $$\n",
    "\n",
    "$$sign(x) = \\left\\{ \\begin{array}{rcl} +1,& x\\geq0 \\\\ -1, & x<0 \\end{array} \\right.$$\n",
    "\n",
    "其中 $ \\omega \\in \\mathcal{R^n}, \\ b \\in \\mathcal{R}, x \\in \\mathcal{X}, y \\in \\mathcal{Y} $\n",
    "\n",
    "$ \\mathcal{X} \\subseteq \\mathcal{R^n} $ 是输入空间 \n",
    "\n",
    "$ \\mathcal{Y} = \\{+1, -1\\} $ 是输出空间\n",
    "\n",
    "### 训练集\n",
    "$$T = \\{ (\\textbf{x}_1, \\textbf{y}_1), (\\textbf{x}_2, \\textbf{y}_2), \\cdots, (\\textbf{x}_n, \\textbf{y}_n) \\},$$ \n",
    "\n",
    "其中 $ \\textbf x_i \\in \\mathcal{X}, \\ y_i \\in \\mathcal{Y}, \\ i = 1, 2, \\cdots, N $\n",
    "\n",
    "### 形式替换\n",
    "\n",
    "$$y = f(x) = sign(\\omega \\cdot x + b) = sign(\\omega^T \\textbf{x}), $$\n",
    "\n",
    "其中 $ \\omega = [b, \\omega_1, \\omega_2, \\cdots, \\omega_n]^T, \\textbf{x}_i = [+1, x_{i1}, x_{i2}, \\cdots, x_{in}]^T $\n",
    "\n",
    "相当于组合了$\\omega$和b，便于推导，此时输入维度为n+1\n",
    "\n",
    "\n",
    "## 学习算法\n",
    "\n",
    "$$\\omega(n+1) = \\left\\{ \\begin{array}{rcl} \\omega(n), & \\hat{y}(n) = y(n) \\\\ \\omega(n) + \\eta(n)\\textbf{x}(n), & \\hat{y}(n) \\neq y(n) & y(n)=1 \\\\ \\omega(n) - \\eta(n)\\textbf{x}(n), & \\hat{y}(n) \\neq y(n) & y(n) =-1\\end{array}\\right.,$$\n",
    "\n",
    "可得：\n",
    "\n",
    "$$\\omega(n+1) = \\omega(n) + \\eta y(n)\\textbf{x}(n)$$\n",
    "\n",
    "其中\n",
    "\n",
    " $\\eta(n)$ 是学习率\n",
    "\n",
    " $\\hat{y}(n) = f(\\textbf{x}(n)) = sign(\\omega \\cdot \\textbf{x}(n) + b)$ 是第 $n$ 个训练集样本的输出\n",
    "\n",
    " $y(n)$ 是第 $n$ 个训练集样本的标签\n",
    "\n",
    " $\\textbf{x}(n)$ 是第 $n$ 个训练集样本的输入"
   ]
  },
  {
   "cell_type": "markdown",
   "metadata": {},
   "source": [
    " ## 收敛性\n",
    "\n",
    " ### Novikoff定理\n",
    "\n",
    " 设训练数据集$T=\\{ (x_1, y_1), (x_2, y_2), \\cdots, (x_n, y_n) \\}$线性可分，则有如下结论\n",
    "\n",
    "* 存在满足$|| \\omega_{opt} || = 1$的超平面$\\omega_{opt} \\cdot x = 0$将训练集完全正确分离；且存在$\\gamma>0$，对所有的$i=1, 2, \\cdots, n$有：\n",
    "$$y_i(\\omega_{opt} \\cdot x_{i}) \\geq \\gamma$$\n",
    "\n",
    "* 令$R = \\max\\limits_{1\\leq i \\leq n}||x_{i}||$，则训练集上误分类次数$k$满足下式\n",
    "\n",
    "$$k \\leq (\\frac{R}{\\gamma})^2$$\n",
    "\n",
    "证明从略，见李航《统计学习方法》P42"
   ]
  },
  {
   "cell_type": "markdown",
   "metadata": {},
   "source": [
    "## 对偶形式\n",
    "\n",
    "对于感知机的参数更新有如下形式\n",
    "\n",
    "$$\\omega \\leftarrow \\omega + \\eta y_i \\textbf{x}_i$$\n",
    "\n",
    "$$b \\leftarrow b + \\eta y_i$$\n",
    "\n",
    "其中$(\\textbf{x}_i, y_i)$为第i个误分类点，若假设第i个误分类点在训练中一共被误分类了$n_i$次，则可以得到在经过n次参数更新后，学到的$\\omega$和$b$可以表示为：\n",
    "\n",
    "$$\\omega = \\omega_0 + \\sum_{i=1}^n \\alpha_i y_i \\textbf{x}_i$$\n",
    "\n",
    "$$b = b_0 + \\sum_{i=1}^n \\alpha_i y_i$$\n",
    "\n",
    "$$\\alpha_i = n_i \\eta$$\n",
    "\n",
    "\n",
    "由此建立感知机模型的对偶形式：\n",
    "$$f(x) = sign(\\sum_{j=1}^n \\alpha_j y_j \\textbf{x}_j \\cdot \\textbf{x})$$\n",
    "\n",
    "$$\\textbf{x}_j = [+1, x_{j1}, x_{j2}, \\cdots, x_{jn}]^T$$\n",
    "\n",
    "其中训练实例仅以内积的形式出现，因此可以提前计算，然后直接调用\n",
    "\n",
    "定义Gram矩阵：\n",
    "$$\\textbf{G} = [x_i \\cdot x_j]_{N \\times N}$$"
   ]
  },
  {
   "cell_type": "markdown",
   "metadata": {},
   "source": [
    "## 案例\n",
    "\n",
    "### 基本逻辑运算（二维）\n",
    "* and\n",
    "* or\n",
    "* Not\n",
    "* xoR\n",
    "\n",
    "#### 基本逻辑运算真值表\n",
    "|$x_1$|$x_2$|and|or|Not($x_1$)|Not($x_2$)|xoR|\n",
    "|--|--|--|--|--|--|--|\n",
    "|0|0|-1|-1|1|1|-1|\n",
    "|0|1|-1|1|1|-1|1|\n",
    "|1|0|-1|1|-1|1|1|\n",
    "|1|1|1|1|-1|-1|-1|\n",
    "\n",
    "### 其他测试数据\n",
    "\n",
    "主要基于sklearn生成"
   ]
  },
  {
   "cell_type": "markdown",
   "metadata": {},
   "source": [
    "### 代码\n",
    "\n",
    "下述的训练流程中采用随机送入样本的形式"
   ]
  },
  {
   "cell_type": "code",
   "execution_count": 1,
   "metadata": {},
   "outputs": [],
   "source": [
    "import numpy as np\n",
    "import matplotlib.pyplot as plt\n",
    "from IPython import display\n",
    "import imageio\n",
    "import os\n",
    "import random\n",
    "from sklearn.datasets import make_blobs, make_moons\n",
    "\n",
    "# seed\n",
    "random.seed(1024)\n",
    "np.random.seed(1024)"
   ]
  },
  {
   "cell_type": "code",
   "execution_count": 2,
   "metadata": {},
   "outputs": [],
   "source": [
    "# 定义模型class\n",
    "class Perceptron(object):\n",
    "\n",
    "    def __init__(self, input_dim=2, output_dim=1, eta=1) -> None:\n",
    "        super().__init__()\n",
    "\n",
    "        # 输入维度\n",
    "        self.input_dim = input_dim\n",
    "        # 输出维度\n",
    "        self.output_dim = output_dim\n",
    "        # 学习率\n",
    "        self.eta = eta\n",
    "\n",
    "        # w，这里使用组合模式下的，即将b放入w，默认为0\n",
    "        self.omega_list = np.zeros(input_dim+1)\n",
    "\n",
    "        # 绘制记录\n",
    "        self.draw_count = 0\n",
    "    \n",
    "    def train(self, input_x, output_y):\n",
    "        \"\"\"\n",
    "        训练主函数\n",
    "        \"\"\"\n",
    "        output_y = np.array(output_y)\n",
    "        # 扩展输入维度, 和公式推导不同，这里将1置于末尾\n",
    "        input_x.append(1)\n",
    "        input_x = np.array(input_x)\n",
    "\n",
    "        # 获取预测\n",
    "        pred_y = np.sign(np.dot(input_x, self.omega_list))\n",
    "\n",
    "        # 判断是否更新参数\n",
    "        if pred_y * output_y <= 0:\n",
    "            # 预测输出与实际输出符号不一致，进行更新\n",
    "            self.omega_list = self.omega_list + self.eta * output_y * input_x\n",
    "            return True\n",
    "        else:\n",
    "            return False\n",
    "    \n",
    "    def test(self, input_x_list, output_y_list):\n",
    "        \"\"\"\n",
    "        判断是否训练完成\n",
    "        \"\"\"\n",
    "        input_x_list = np.array(input_x_list)\n",
    "        bias_x = np.ones((len(output_y_list)))\n",
    "        input_x_list = [input_x_list[:, 0], input_x_list[:, 1], list(bias_x)]\n",
    "\n",
    "        pred_y = np.sign(np.dot(self.omega_list, input_x_list))\n",
    "\n",
    "        if np.sum(pred_y == np.array(output_y_list)) == len(output_y_list):\n",
    "            return True\n",
    "        else:\n",
    "            return False\n",
    "    \n",
    "    def draw(self, input_x_list, output_y_list):\n",
    "        \"\"\"\n",
    "        绘制函数\n",
    "        \"\"\"\n",
    "        input_x_list = np.array(input_x_list)\n",
    "        input_dim = np.shape(input_x_list)[1]\n",
    "        if np.shape(input_x_list)[1] != 2:\n",
    "            raise ValueError(\"仅能绘制输入维度为2的结果，但是接受到的维度为{}\".format(input_dim))\n",
    "        \n",
    "        # 绘制所有训练数据\n",
    "        plt.cla()\n",
    "        plt.scatter(input_x_list[:, 0], input_x_list[:, 1], c=output_y_list)\n",
    "\n",
    "        # 绘制学到的分离面\n",
    "\n",
    "        # x_1_point_list = np.lnspace(input_x_1_range[0]-0.1*x_1_len, input_x_1_range[1]+0.1*x_1_len)\n",
    "        # 绘制直线\n",
    "        # 分离平面 w x + b = 0\n",
    "        # 对于二维输入,有\n",
    "        # w1 x1 + w2 x2 + b = 0\n",
    "        # x2 = (-b-w1 x1)/w2\n",
    "        \n",
    "        # 设置标记点\n",
    "        input_x_1_range = [np.min(input_x_list[:, 0]), np.max(input_x_list[:, 0])]\n",
    "        input_x_2_range = [np.min(input_x_list[:, 1]), np.max(input_x_list[:, 1])]\n",
    "        # 区间长度\n",
    "        x_1_len = input_x_1_range[1] - input_x_1_range[0]\n",
    "        x_2_len = input_x_2_range[1] - input_x_2_range[0]\n",
    "\n",
    "        point_x_1_list = np.linspace(input_x_1_range[0]-0.1*x_1_len, input_x_1_range[1]+0.1*x_1_len, 100)\n",
    "\n",
    "        # 判断是否是y=c或者x=c\n",
    "        if self.omega_list[0] == 0 and self.omega_list[1] == 0:\n",
    "            # 均为0，为单点\n",
    "            point_x_1_list = np.zeros_like(point_x_1_list)\n",
    "            point_x_2_list = np.zeros_like(point_x_1_list)\n",
    "        else:\n",
    "            if self.omega_list[1] == 0:\n",
    "                # x1 = c\n",
    "                point_x_1_list = -np.ones_like(point_x_1_list) * self.omega_list[-1]/self.omega_list[0]\n",
    "                point_x_2_list = np.linspace(input_x_2_range[0]-0.1*x_1_len, input_x_2_range[1]+0.1*x_1_len, len(point_x_1_list))\n",
    "            elif self.omega_list[0] == 0:\n",
    "                # x2 = c\n",
    "                point_x_2_list = -np.ones_like(point_x_1_list) * self.omega_list[-1]/self.omega_list[1]\n",
    "            else:\n",
    "                point_x_2_list = -(self.omega_list[-1] + self.omega_list[0] * point_x_1_list)/self.omega_list[1]\n",
    "\n",
    "        plt.plot(point_x_1_list, point_x_2_list, \"-r\")\n",
    "\n",
    "        plt.xlim(input_x_1_range[0]-0.2*x_1_len, input_x_1_range[1]+0.2*x_1_len)\n",
    "        plt.ylim(input_x_2_range[0]-0.2*x_2_len, input_x_2_range[1]+0.2*x_2_len)\n",
    "        plt.xlabel(\"x1\")\n",
    "        plt.ylabel(\"x2\")\n",
    "        plt.title(\"weight: {}\".format(self.omega_list))\n",
    "\n",
    "        plt.savefig(\"./images/temp/{}.png\".format(self.draw_count), dpi=150)\n",
    "        self.draw_count += 1\n",
    "    \n",
    "    def create_gif(self, output_name):\n",
    "        \"\"\"\n",
    "        生成gif\n",
    "        \"\"\"\n",
    "        with imageio.get_writer(\"./images/{}.gif\".format(output_name), mode=\"I\", fps=2) as Writer:\n",
    "            for ind in range(self.draw_count):\n",
    "                image = imageio.imread(\"./images/temp/{}.png\".format(ind))\n",
    "                os.remove(\"./images/temp/{}.png\".format(ind))\n",
    "                Writer.append_data(image)\n",
    "    \n",
    "    def clear_weight(self):\n",
    "        self.omega_list *= 0"
   ]
  },
  {
   "cell_type": "code",
   "execution_count": 3,
   "metadata": {},
   "outputs": [],
   "source": [
    "# 数据\n",
    "\n",
    "class DataCreator(object):\n",
    "\n",
    "    def __init__(self) -> None:\n",
    "        super().__init__()\n",
    "\n",
    "    @staticmethod\n",
    "    def get_and_data():\n",
    "        x_list = [[0, 0], [0, 1], [1, 0], [1, 1]]\n",
    "        y_list = [-1, -1, -1, 1]\n",
    "        return x_list, y_list\n",
    "\n",
    "    @staticmethod\n",
    "    def get_or_data():\n",
    "        x_list = [[0, 0], [0, 1], [1, 0], [1, 1]]\n",
    "        y_list = [-1, 1, 1, 1]\n",
    "        return x_list, y_list\n",
    "\n",
    "    @staticmethod\n",
    "    def get_nor_data(nor_index):\n",
    "        x_list = [[0, 0], [0, 1], [1, 0], [1, 1]]\n",
    "        y_list = list()\n",
    "        for i in range(len(x_list)):\n",
    "            if x_list[i][nor_index]:\n",
    "                y_list.append(-1)\n",
    "            else:\n",
    "                y_list.append(1)\n",
    "        \n",
    "        return x_list, y_list\n",
    "\n",
    "    @staticmethod\n",
    "    def get_xor_data():\n",
    "        x_list = [[0, 0], [0, 1], [1, 0], [1, 1]]\n",
    "        y_list = [-1, 1, 1, -1]\n",
    "        return x_list, y_list\n",
    "\n",
    "    @staticmethod\n",
    "    def get_moon_data(sample_num, noise=0.05):\n",
    "        x_list, y_list = make_moons(sample_num, noise=noise, random_state=1024)\n",
    "        y_list = y_list * 2 - 1\n",
    "        return x_list, y_list\n",
    "\n",
    "    @staticmethod\n",
    "    def get_blob_data(sample_num, std=0.6):\n",
    "        x_list, y_list = make_blobs(n_samples=sample_num, centers=2, \n",
    "                                    cluster_std=0.6, random_state=1024)\n",
    "        y_list = y_list * 2 - 1\n",
    "        return x_list, y_list"
   ]
  },
  {
   "cell_type": "code",
   "execution_count": 4,
   "metadata": {},
   "outputs": [],
   "source": [
    "# 正式测试\n",
    "%matplotlib inline"
   ]
  },
  {
   "cell_type": "markdown",
   "metadata": {},
   "source": [
    "### and逻辑"
   ]
  },
  {
   "cell_type": "code",
   "execution_count": 5,
   "metadata": {},
   "outputs": [
    {
     "data": {
      "image/png": "[encoded data removed]",
      "text/plain": [
       "<Figure size 432x288 with 1 Axes>"
      ]
     },
     "metadata": {
      "needs_background": "light"
     },
     "output_type": "display_data"
    }
   ],
   "source": [
    "# and\n",
    "\n",
    "# 模型\n",
    "preceptron_model = Perceptron(eta=1)\n",
    "# 数据生成器\n",
    "data_loader = DataCreator()\n",
    "# 最大训练次数\n",
    "max_loop = 1e3\n",
    "\n",
    "# 获取训练数据\n",
    "train_x, train_y = data_loader.get_and_data()\n",
    "train_num = len(train_x)\n",
    "# 循环次数\n",
    "train_loop = 0\n",
    "\n",
    "while True:\n",
    "    sample_ind = random.randint(0, 3)\n",
    "    input_x = train_x[sample_ind].copy()\n",
    "    output_y = train_y[sample_ind]\n",
    "    # display.clear_output(wait=True)\n",
    "    # plt.pause(0.1)\n",
    "\n",
    "    if preceptron_model.train(input_x, output_y):\n",
    "        preceptron_model.draw(train_x, train_y)\n",
    "    train_loop += 1\n",
    "\n",
    "    # 测试是否分类完成\n",
    "    if preceptron_model.test(train_x, train_y) or train_loop == max_loop:\n",
    "        break\n",
    "\n",
    "preceptron_model.draw(train_x, train_y)\n",
    "preceptron_model.create_gif(\"add_perceptron\")\n",
    "plt.show()"
   ]
  },
  {
   "cell_type": "markdown",
   "metadata": {},
   "source": [
    "### 训练动图\n",
    "\n",
    "![add](https://raw.githubusercontent.com/koolo233/NeuralNetworks/main/images/add_perceptron.gif \"segment\")"
   ]
  },
  {
   "cell_type": "markdown",
   "metadata": {},
   "source": [
    "### or逻辑"
   ]
  },
  {
   "cell_type": "code",
   "execution_count": 6,
   "metadata": {},
   "outputs": [
    {
     "data": {
      "image/png": "[encoded data removed]",
      "text/plain": [
       "<Figure size 432x288 with 1 Axes>"
      ]
     },
     "metadata": {
      "needs_background": "light"
     },
     "output_type": "display_data"
    }
   ],
   "source": [
    "# or\n",
    "\n",
    "# 模型\n",
    "preceptron_model = Perceptron(eta=1)\n",
    "# 数据生成器\n",
    "data_loader = DataCreator()\n",
    "# 最大训练次数\n",
    "max_loop = 1e3\n",
    "\n",
    "# 获取训练数据\n",
    "train_x, train_y = data_loader.get_or_data()\n",
    "train_num = len(train_x)\n",
    "# 循环次数\n",
    "train_loop = 0\n",
    "\n",
    "while True:\n",
    "    sample_ind = random.randint(0, 3)\n",
    "    input_x = train_x[sample_ind].copy()\n",
    "    output_y = train_y[sample_ind]\n",
    "    # display.clear_output(wait=True)\n",
    "    # plt.pause(0.1)\n",
    "\n",
    "    if preceptron_model.train(input_x, output_y):\n",
    "        preceptron_model.draw(train_x, train_y)\n",
    "    train_loop += 1\n",
    "\n",
    "    # 测试是否分类完成\n",
    "    if preceptron_model.test(train_x, train_y) or train_loop == max_loop:\n",
    "        break\n",
    "\n",
    "# plt.show()\n",
    "preceptron_model.draw(train_x, train_y)\n",
    "preceptron_model.create_gif(\"or_perceptron\")\n",
    "plt.show()"
   ]
  },
  {
   "cell_type": "markdown",
   "metadata": {},
   "source": [
    "### 结果展示\n",
    "\n",
    "![](https://raw.githubusercontent.com/koolo233/NeuralNetworks/main/images/or_perceptron.gif \"segment\")"
   ]
  },
  {
   "cell_type": "markdown",
   "metadata": {},
   "source": [
    "### Nor(x1)"
   ]
  },
  {
   "cell_type": "code",
   "execution_count": 7,
   "metadata": {},
   "outputs": [
    {
     "data": {
      "image/png": "[encoded data removed]",
      "text/plain": [
       "<Figure size 432x288 with 1 Axes>"
      ]
     },
     "metadata": {
      "needs_background": "light"
     },
     "output_type": "display_data"
    }
   ],
   "source": [
    "# Nor(x1)\n",
    "\n",
    "# 模型\n",
    "preceptron_model = Perceptron(eta=1)\n",
    "# 数据生成器\n",
    "data_loader = DataCreator()\n",
    "# 最大训练次数\n",
    "max_loop = 1e3\n",
    "\n",
    "# 获取训练数据\n",
    "train_x, train_y = data_loader.get_nor_data(0)\n",
    "train_num = len(train_x)\n",
    "# 循环次数\n",
    "train_loop = 0\n",
    "\n",
    "while True:\n",
    "    sample_ind = random.randint(0, 3)\n",
    "    input_x = train_x[sample_ind].copy()\n",
    "    output_y = train_y[sample_ind]\n",
    "    # display.clear_output(wait=True)\n",
    "    # plt.pause(0.1)\n",
    "\n",
    "    if preceptron_model.train(input_x, output_y):\n",
    "        preceptron_model.draw(train_x, train_y)\n",
    "    train_loop += 1\n",
    "\n",
    "    # 测试是否分类完成\n",
    "    if preceptron_model.test(train_x, train_y) or train_loop == max_loop:\n",
    "        break\n",
    "\n",
    "# plt.show()\n",
    "preceptron_model.draw(train_x, train_y)\n",
    "preceptron_model.create_gif(\"nor_x1_perceptron\")\n",
    "plt.show()"
   ]
  },
  {
   "cell_type": "markdown",
   "metadata": {},
   "source": [
    "### 结果展示\n",
    "\n",
    "![](https://raw.githubusercontent.com/koolo233/NeuralNetworks/main/images/nor_x1_perceptron.gif \"segment\")"
   ]
  },
  {
   "cell_type": "markdown",
   "metadata": {},
   "source": [
    "### Nor(x2)"
   ]
  },
  {
   "cell_type": "code",
   "execution_count": 8,
   "metadata": {},
   "outputs": [
    {
     "data": {
      "image/png": "[encoded data removed]",
      "text/plain": [
       "<Figure size 432x288 with 1 Axes>"
      ]
     },
     "metadata": {
      "needs_background": "light"
     },
     "output_type": "display_data"
    }
   ],
   "source": [
    "# Nor(x2)\n",
    "\n",
    "# 模型\n",
    "preceptron_model = Perceptron(eta=1)\n",
    "# 数据生成器\n",
    "data_loader = DataCreator()\n",
    "# 最大训练次数\n",
    "max_loop = 1e3\n",
    "\n",
    "# 获取训练数据\n",
    "train_x, train_y = data_loader.get_nor_data(1)\n",
    "train_num = len(train_x)\n",
    "# 循环次数\n",
    "train_loop = 0\n",
    "\n",
    "while True:\n",
    "    sample_ind = random.randint(0, 3)\n",
    "    input_x = train_x[sample_ind].copy()\n",
    "    output_y = train_y[sample_ind]\n",
    "    # display.clear_output(wait=True)\n",
    "    # plt.pause(0.1)\n",
    "\n",
    "    if preceptron_model.train(input_x, output_y):\n",
    "        preceptron_model.draw(train_x, train_y)\n",
    "    train_loop += 1\n",
    "\n",
    "    # 测试是否分类完成\n",
    "    if preceptron_model.test(train_x, train_y) or train_loop == max_loop:\n",
    "        break\n",
    "\n",
    "# plt.show()\n",
    "preceptron_model.draw(train_x, train_y)\n",
    "preceptron_model.create_gif(\"nor_x2_perceptron\")\n",
    "plt.show()"
   ]
  },
  {
   "cell_type": "markdown",
   "metadata": {},
   "source": [
    "### 结果展示\n",
    "\n",
    "![](https://raw.githubusercontent.com/koolo233/NeuralNetworks/main/images/nor_x2_perceptron.gif \"segment\")"
   ]
  },
  {
   "cell_type": "markdown",
   "metadata": {},
   "source": [
    "### xoR"
   ]
  },
  {
   "cell_type": "code",
   "execution_count": 10,
   "metadata": {},
   "outputs": [
    {
     "data": {
      "image/png": "[encoded data removed]",
      "text/plain": [
       "<Figure size 432x288 with 1 Axes>"
      ]
     },
     "metadata": {
      "needs_background": "light"
     },
     "output_type": "display_data"
    }
   ],
   "source": [
    "# xoR\n",
    "\n",
    "# 模型\n",
    "preceptron_model = Perceptron(eta=1)\n",
    "# 数据生成器\n",
    "data_loader = DataCreator()\n",
    "# 最大训练次数\n",
    "max_loop = 100\n",
    "\n",
    "# 获取训练数据\n",
    "train_x, train_y = data_loader.get_xor_data()\n",
    "train_num = len(train_x)\n",
    "# 循环次数\n",
    "train_loop = 0\n",
    "\n",
    "while True:\n",
    "    sample_ind = random.randint(0, 3)\n",
    "    input_x = train_x[sample_ind].copy()\n",
    "    output_y = train_y[sample_ind]\n",
    "\n",
    "    if preceptron_model.train(input_x, output_y):\n",
    "        preceptron_model.draw(train_x, train_y)\n",
    "    train_loop += 1\n",
    "\n",
    "    # 测试是否分类完成\n",
    "    if preceptron_model.test(train_x, train_y) or train_loop == max_loop:\n",
    "        break\n",
    "\n",
    "# plt.show()\n",
    "preceptron_model.draw(train_x, train_y)\n",
    "preceptron_model.create_gif(\"xor_perceptron\")\n",
    "plt.show()"
   ]
  },
  {
   "cell_type": "markdown",
   "metadata": {},
   "source": [
    "### 结果展示\n",
    "\n",
    "![xor](https://raw.githubusercontent.com/koolo233/NeuralNetworks/main/images/xor_perceptron.gif \"segment\")"
   ]
  },
  {
   "cell_type": "markdown",
   "metadata": {},
   "source": [
    "### 线性可分的样本簇"
   ]
  },
  {
   "cell_type": "code",
   "execution_count": 11,
   "metadata": {},
   "outputs": [
    {
     "data": {
      "image/png": "[encoded data removed]",
      "text/plain": [
       "<Figure size 432x288 with 1 Axes>"
      ]
     },
     "metadata": {
      "needs_background": "light"
     },
     "output_type": "display_data"
    }
   ],
   "source": [
    "# blobs\n",
    "\n",
    "# 模型\n",
    "preceptron_model = Perceptron(eta=1)\n",
    "# 数据生成器\n",
    "data_loader = DataCreator()\n",
    "# 最大训练次数\n",
    "max_loop = 1e4\n",
    "\n",
    "# 获取训练数据\n",
    "train_x, train_y = data_loader.get_blob_data(sample_num=100)\n",
    "train_num = len(train_x)\n",
    "# 循环次数\n",
    "train_loop = 0\n",
    "\n",
    "while True:\n",
    "    sample_ind = random.randint(0, len(train_y)-1)\n",
    "    input_x = list(train_x[sample_ind].copy())\n",
    "    output_y = train_y[sample_ind]\n",
    "\n",
    "    if preceptron_model.train(input_x, output_y):\n",
    "        preceptron_model.draw(train_x, train_y)\n",
    "    train_loop += 1\n",
    "\n",
    "    # 测试是否分类完成\n",
    "    if preceptron_model.test(train_x, train_y) or train_loop == max_loop:\n",
    "        break\n",
    "\n",
    "# plt.show()\n",
    "preceptron_model.draw(train_x, train_y)\n",
    "preceptron_model.create_gif(\"blobs_perceptron\")\n",
    "plt.show()"
   ]
  },
  {
   "cell_type": "markdown",
   "metadata": {},
   "source": [
    "### 结果展示\n",
    "\n",
    "![blobs](https://raw.githubusercontent.com/koolo233/NeuralNetworks/main/images/blobs_perceptron.gif \"segment\")"
   ]
  },
  {
   "cell_type": "markdown",
   "metadata": {},
   "source": [
    "### 线性不可分的样本簇"
   ]
  },
  {
   "cell_type": "code",
   "execution_count": 12,
   "metadata": {},
   "outputs": [
    {
     "data": {
      "image/png": "[encoded data removed]",
      "text/plain": [
       "<Figure size 432x288 with 1 Axes>"
      ]
     },
     "metadata": {
      "needs_background": "light"
     },
     "output_type": "display_data"
    }
   ],
   "source": [
    "# moons\n",
    "\n",
    "# 模型\n",
    "preceptron_model = Perceptron(eta=1)\n",
    "# 数据生成器\n",
    "data_loader = DataCreator()\n",
    "# 最大训练次数\n",
    "max_loop = 100\n",
    "\n",
    "# 获取训练数据\n",
    "train_x, train_y = data_loader.get_moon_data(sample_num=100)\n",
    "train_num = len(train_x)\n",
    "# 循环次数\n",
    "train_loop = 0\n",
    "\n",
    "while True:\n",
    "    sample_ind = random.randint(0, len(train_y)-1)\n",
    "    input_x = list(train_x[sample_ind].copy())\n",
    "    output_y = train_y[sample_ind]\n",
    "\n",
    "    if preceptron_model.train(input_x, output_y):\n",
    "        preceptron_model.draw(train_x, train_y)\n",
    "    train_loop += 1\n",
    "\n",
    "    # 测试是否分类完成\n",
    "    if preceptron_model.test(train_x, train_y) or train_loop == max_loop:\n",
    "        break\n",
    "\n",
    "# plt.show()\n",
    "preceptron_model.draw(train_x, train_y)\n",
    "preceptron_model.create_gif(\"moons_perceptron\")\n",
    "plt.show()"
   ]
  },
  {
   "cell_type": "markdown",
   "metadata": {},
   "source": [
    "### 结果展示\n",
    "\n",
    "![moons](https://raw.githubusercontent.com/koolo233/NeuralNetworks/main/images/moons_perceptron.gif \"segment\")"
   ]
  }
 ],
 "metadata": {
  "interpreter": {
   "hash": "a2ae398f54937c2e9a792e0245dde3e7f00c22003a4409849c6155f07537f255"
  },
  "kernelspec": {
   "display_name": "Python 3.8.0 64-bit ('DIP': conda)",
   "language": "python",
   "name": "python3"
  },
  "language_info": {
   "codemirror_mode": {
    "name": "ipython",
    "version": 3
   },
   "file_extension": ".py",
   "mimetype": "text/x-python",
   "name": "python",
   "nbconvert_exporter": "python",
   "pygments_lexer": "ipython3",
   "version": "3.8.0"
  },
  "orig_nbformat": 4
 },
 "nbformat": 4,
 "nbformat_minor": 2
}
