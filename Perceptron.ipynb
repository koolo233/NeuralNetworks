{
 "cells": [
  {
   "cell_type": "markdown",
   "metadata": {},
   "source": [
    "# 感知机(Perceptron)\n",
    "\n",
    "## 定义\n",
    "\n",
    "$$y = f(x) = sign(\\omega \\cdot x + b), $$\n",
    "\n",
    "$$sign(x) = \\left\\{ \\begin{array}{rcl} +1,& x\\geq0 \\\\ -1, & x<0 \\end{array} \\right.$$\n",
    "\n",
    "其中 $ \\omega \\in \\mathcal{R^n}, \\ b \\in \\mathcal{R}, x \\in \\mathcal{X}, y \\in \\mathcal{Y} $\n",
    "\n",
    "$ \\mathcal{X} \\subseteq \\mathcal{R^n} $ 是输入空间 \n",
    "\n",
    "$ \\mathcal{Y} = \\{+1, -1\\} $ 是输出空间\n",
    "\n",
    "### 训练集\n",
    "$$T = \\{ (\\textbf{x}_1, \\textbf{y}_1), (\\textbf{x}_2, \\textbf{y}_2), \\cdots, (\\textbf{x}_n, \\textbf{y}_n) \\},$$ \n",
    "\n",
    "其中 $ \\textbf x_i \\in \\mathcal{X}, \\ y_i \\in \\mathcal{Y}, \\ i = 1, 2, \\cdots, N $\n",
    "\n",
    "### 形式替换\n",
    "\n",
    "$$y = f(x) = sign(\\omega \\cdot x + b) = sign(\\omega^T \\textbf{x}), $$\n",
    "\n",
    "其中 $ \\omega = [b, \\omega_1, \\omega_2, \\cdots, \\omega_n]^T, \\textbf{x}_i = [+1, x_{i1}, x_{i2}, \\cdots, x_{in}]^T $\n",
    "\n",
    "相当于组合了$\\omega$和b，便于推导，此时输入维度为n+1\n",
    "\n",
    "\n",
    "## 学习算法\n",
    "\n",
    "$$\\omega(n+1) = \\left\\{ \\begin{array}{rcl} \\omega(n), & \\hat{y}(n) = y(n) \\\\ \\omega(n) + \\eta(n)\\textbf{x}(n), & \\hat{y}(n) \\neq y(n) & y(n)=1 \\\\ \\omega(n) - \\eta(n)\\textbf{x}(n), & \\hat{y}(n) \\neq y(n) & y(n) =-1\\end{array}\\right.,$$\n",
    "\n",
    "可得：\n",
    "\n",
    "$$\\omega(n+1) = \\omega(n) + \\eta y(n)\\textbf{x}(n)$$\n",
    "\n",
    "其中\n",
    "\n",
    " $\\eta(n)$ 是学习率\n",
    "\n",
    " $\\hat{y}(n) = f(\\textbf{x}(n)) = sign(\\omega \\cdot \\textbf{x}(n) + b)$ 是第 $n$ 个训练集样本的输出\n",
    "\n",
    " $y(n)$ 是第 $n$ 个训练集样本的标签\n",
    "\n",
    " $\\textbf{x}(n)$ 是第 $n$ 个训练集样本的输入"
   ]
  },
  {
   "cell_type": "markdown",
   "metadata": {},
   "source": [
    " ## 收敛性\n",
    "\n",
    " ### Novikoff定理\n",
    "\n",
    " 设训练数据集$T=\\{ (x_1, y_1), (x_2, y_2), \\cdots, (x_n, y_n) \\}$线性可分，则有如下结论\n",
    "\n",
    "* 存在满足$|| \\omega_{opt} || = 1$的超平面$\\omega_{opt} \\cdot x = 0$将训练集完全正确分离；且存在$\\gamma>0$，对所有的$i=1, 2, \\cdots, n$有：\n",
    "$$y_i(\\omega_{opt} \\cdot x_{i}) \\geq \\gamma$$\n",
    "\n",
    "* 令$R = \\max\\limits_{1\\leq i \\leq n}||x_{i}||$，则训练集上误分类次数$k$满足下式\n",
    "\n",
    "$$k \\leq (\\frac{R}{\\gamma})^2$$"
   ]
  },
  {
   "cell_type": "code",
   "execution_count": null,
   "metadata": {},
   "outputs": [],
   "source": []
  }
 ],
 "metadata": {
  "interpreter": {
   "hash": "a2ae398f54937c2e9a792e0245dde3e7f00c22003a4409849c6155f07537f255"
  },
  "kernelspec": {
   "display_name": "Python 3.8.0 64-bit ('DIP': conda)",
   "language": "python",
   "name": "python3"
  },
  "language_info": {
   "name": "python",
   "version": "3.8.0"
  },
  "orig_nbformat": 4
 },
 "nbformat": 4,
 "nbformat_minor": 2
}
